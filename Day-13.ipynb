{
 "cells": [
  {
   "cell_type": "markdown",
   "metadata": {},
   "source": [
    "# 1)\n"
   ]
  },
  {
   "cell_type": "code",
   "execution_count": 1,
   "metadata": {},
   "outputs": [],
   "source": [
    "import pandas as pd"
   ]
  },
  {
   "cell_type": "code",
   "execution_count": 3,
   "metadata": {},
   "outputs": [
    {
     "data": {
      "text/plain": [
       "array(['TVS', 'Royal Enfield', 'Triumph', 'Yamaha', 'Honda', 'Hero',\n",
       "       'Bajaj', 'Suzuki', 'Benelli', 'KTM', 'Mahindra', 'Kawasaki',\n",
       "       'Ducati', 'Hyosung', 'Harley-Davidson', 'Jawa', 'BMW', 'Indian',\n",
       "       'Rajdoot', 'LML', 'Yezdi', 'MV', 'Ideal'], dtype=object)"
      ]
     },
     "execution_count": 3,
     "metadata": {},
     "output_type": "execute_result"
    }
   ],
   "source": [
    "df=pd.read_csv(\"Used_Bikes.csv\")\n",
    "df[\"brand\"].unique()"
   ]
  },
  {
   "cell_type": "code",
   "execution_count": 4,
   "metadata": {},
   "outputs": [
    {
     "data": {
      "text/plain": [
       "array(['Ahmedabad', 'Delhi', 'Bangalore', 'Mumbai', 'Kalyan', 'Faridabad',\n",
       "       'Mettur', 'Hyderabad', 'Kaithal', 'Gurgaon', 'Pune', 'Noida',\n",
       "       'Nashik', 'Kochi', 'Allahabad', 'Samastipur', 'Nadiad', 'Lucknow',\n",
       "       'Jaipur', 'Karnal', 'Gorakhpur', 'Vidisha', 'Hosur', 'Bagalkot',\n",
       "       'Baripara', 'Agra', 'Dharwad', 'Vadodara', 'Jalandhar', 'Surat',\n",
       "       'Chennai', 'Navi Mumbai', 'Gandhidham', 'Visakhapatnam',\n",
       "       'Thrissur', 'Kolkata', 'Ernakulam', 'Barasat', 'Ghaziabad',\n",
       "       'Bhubaneshwar', 'Amritsar', 'Bhopal', 'Hamirpur(hp)', 'Kottayam',\n",
       "       'Arrah', 'Patiala', 'Ranga Reddy', 'Mandi', 'Ludhiana', 'Mandya',\n",
       "       'Siliguri', 'Aurangabad', 'Kanpur', 'Bhilwara', 'Meerut', 'Rewari',\n",
       "       'Ahmednagar', 'Wardha', 'Chandigarh', 'Ranchi', 'Panvel', 'Thane',\n",
       "       'Jabalpur', 'Kota', 'Rohtak', 'Rajkot', 'Varanasi', '24 Pargana',\n",
       "       'Banka', 'Nagpur', 'Banki', 'Pali', 'Chhatarpur', 'Katihar',\n",
       "       'Mohali', 'Rudrapur', 'Coimbatore', 'Jajpur', 'Mysore', 'Adoni',\n",
       "       'Bikaner', 'Malout', 'Jammu', 'Rajnandgaon', 'Unnao', 'Godhara',\n",
       "       'Kolhapur', 'Satara', 'Siwan', 'Dadra & Nagar Haveli', 'Bhiwani',\n",
       "       'Koppal', 'Nizamabad', 'Madurai', 'Ujjain', 'Palakkad',\n",
       "       'Tiruvallur', 'Panchkula', 'Nanjangud', 'Jhansi', 'Sonipat',\n",
       "       'Puttur', 'Hoshiarpur', 'Gohana', 'Gautam Buddha Nagar',\n",
       "       'Durgapur', 'Palwal', 'Chatrapur', 'Howrah', 'Jind', 'Hubli',\n",
       "       'Panipat', 'Bharatpur', 'Vellore', 'Ambala', 'Guwahati', 'Gangtok',\n",
       "       'Rajahmundry', 'Tiruchirappalli', 'Belgaum', 'Balaghat', 'Jatani',\n",
       "       'Asansol', 'Bilaspur', 'Thanjavur', 'Raigarh(mh)', 'Mandi Dabwali',\n",
       "       'Basti', 'Bolpur', 'Aligarh', 'Balrampur', 'Ratnagiri', 'Muktsar',\n",
       "       'Baran', 'Haldwani', 'Thiruvananthapuram', 'Indore', 'Buxar',\n",
       "       'Chaksu', 'Haridwar', 'Bharuch', 'Muvattupuzha', 'Patna',\n",
       "       'Simdega', 'Singhbhum', 'Bardhaman', 'Pathankot', 'Kharar',\n",
       "       'Silchar', 'Jhalawar', 'Roorkee', 'Saharanpur', 'Solapur',\n",
       "       'Gwalior', 'Alibag', 'Katni', 'Khedbrahma', 'Valsad', 'Satna',\n",
       "       'Hooghly', 'Gurdaspur', 'Dadri', 'Amravati', 'Durg', 'Mehsana',\n",
       "       'Lansdowne', 'Cuttack', 'Jaisalmer', 'Hanumangarh', 'Dungarpur',\n",
       "       'Sri Ganganagar', 'Margao', 'Chinsurah', 'Bhatinda', 'Sibsagar',\n",
       "       'Khalilabad', 'Dehradun', 'Anand', 'Sambalpur', 'Ankleshwar',\n",
       "       'Purnia', 'Tiruverkadu', 'Bahadurgarh', 'Udaipur', 'Jodhpur',\n",
       "       'Sheikhpura', 'Pondicherry', 'Sirsa', 'Godavari', 'Ajmer',\n",
       "       'Moradabad', 'Raipur', 'Navsari', 'Herbertpur', 'Jamshedpur',\n",
       "       'Ramanagar', 'Berhampur', 'Vijayawada', 'Murad Nagar',\n",
       "       'Chandrapur', 'Jamtara', 'Uppidamangalam', 'Nalagarh', 'Una',\n",
       "       'Chakan', 'Idukki', 'Shivpuri', 'Arkalgud', 'Bidar', 'Rupnagar',\n",
       "       'Deoghar', 'Kanchipuram', 'Vapi', 'Medak', 'Kasargode', 'Dhanbad',\n",
       "       'Dakshina Kannada', 'Ganaur', 'Jamalpur', 'Amraoti', 'Mangalore',\n",
       "       'Deolali', 'Gandhinagar', 'Chitradurga', 'Chinchwad', 'Jhajjar',\n",
       "       'Jagdalpur', 'Ranoli', 'Raiwala', 'Guntur', 'Badarpur', 'Adalaj',\n",
       "       'Alipore', 'Bhawani Mandi', 'Mughalsarai', 'Kollam', 'Farukhabad',\n",
       "       'Thiruvallur', 'Udaipurwati', 'Rasra', 'Latur', 'Krishna',\n",
       "       'Gangaikondan', 'Warangal', 'Uluberia', 'Poonamallee', 'Nagaon',\n",
       "       'Hissar', 'Kanyakumari', 'Morbi', 'Bankura', 'Virar', 'Tikamgarh',\n",
       "       'Sultanpur', 'Tirunelveli', 'Bihar Shariff', 'Goa-panaji',\n",
       "       'Ganganagar', 'Kolar', 'Bahadurpur', 'Batala', 'Budhlada',\n",
       "       'Muzaffarnagar', 'Adyar', 'Calicut', 'Raigarh', 'Sonepat',\n",
       "       'Chikkaballapur', 'Kasba', 'Bulandshahr', 'Burdwan', 'Anjar',\n",
       "       'Marandahalli', 'Badaun', 'Namakkal', 'Puri', 'Alwar',\n",
       "       'Surendranagar', 'Khandela', 'Kullu', 'Mohammadabad', 'Sangareddy',\n",
       "       'Ghazipur', 'Shimla', 'Azamgarh', 'Chenani', 'Kanpur Nagar',\n",
       "       'Trivandrum', 'Secunderabad', 'Kurukshetra', 'Dhariawad',\n",
       "       'Bargarh', 'Gadarpur', 'Chikamaglur', 'Karim Nagar', 'Kotdwar',\n",
       "       'Jalaun', 'Parola', 'Bareilly', 'Salem', 'Indi', 'Muzaffarpur',\n",
       "       'Nayagarh', 'Jalgaon', 'Ambikapur', 'Udupi', 'Junagadh',\n",
       "       'Dibrugarh', 'Faridkot', 'Naraingarh', 'Karwar',\n",
       "       'Sant Kabir Nagar', 'Viramgam', 'Manali', 'Gadwal', 'Honavar',\n",
       "       'Mathura', 'Khandwa', 'Solan', 'Sitapur', 'Betul', 'Anantapur',\n",
       "       'Sholapur', 'Pinjore', 'Qadian', 'Sangrur', 'Jorhat', 'Palanpur',\n",
       "       'Narnaul', 'Palamu', 'Falakata', 'Ferozepur', 'Porbandar',\n",
       "       'Dwarka', 'Rangpo', 'Cannanore (kannur)', 'Churu', 'Baghpat',\n",
       "       'Jhumri Tilaiya', 'Naihati', 'Virudhunagar', 'Dharmavaram',\n",
       "       'Darbhanga', 'Nawanshahr', 'Sangli', 'Suri', 'Yamuna Nagar',\n",
       "       'Vasai', 'Aluva', 'Sirsi', 'Bijapur', 'Krishnagar', 'Bhiwadi',\n",
       "       'Bellary', 'Erode', 'Aquem', 'Nellore', 'Udhampur', 'Dhamtari',\n",
       "       'Vandalur', 'Motihari', 'Dharwar', 'Shimoga', 'Jhunjhunu',\n",
       "       'Bijnor', 'Yemmiganur', 'Bokaro', 'Kurnool', 'Srinagar', 'Ranip',\n",
       "       'Davanagere', 'Rajouri', 'Begusarai', 'Goregaon', 'Bally',\n",
       "       'Kachchh', 'Nagaur', 'Anekal', 'Mansa', 'Nanded', 'Dharamasala',\n",
       "       'Chhindwara', 'Jamnagar', 'Zirakpur', 'Abohar', 'Barabanki',\n",
       "       'Nabha', 'Kadapa', 'Perumbavoor', 'Sundargarh', 'Nazira',\n",
       "       'Pratapgarh', 'Dharmapuri', 'Thangadh', 'Lonavala', 'Vizianagaram',\n",
       "       'Kathua', 'Deesa', 'Tiruppur', 'Gadchiroli', 'Gangaghat', 'Bhuj',\n",
       "       'Vastral', 'Phagwara', 'Kheda', 'Swaimadhopur', 'Kharagpur',\n",
       "       'Jobner', 'Gondia', 'Bundi', 'Hamirpur', 'Dongargaon',\n",
       "       'Mubarakpur', 'Tumkur', 'Sanand', 'Kartarpur', 'Bhavnagar',\n",
       "       'Farrukhabad', 'Kadi', 'Seppa', 'Challakere', 'Dhubri', 'Deoria',\n",
       "       'Akot', 'Alappuzha', 'Bhiwandi', 'Shillong', 'Osmanabad', 'Kendua',\n",
       "       'Uran', 'Jaunpur', 'Hisar', 'Bodhan', 'Bhubaneswar', 'Raiganj',\n",
       "       'Bhilai Nagar', 'Baloda', 'Anantnag', 'Berhampore', 'Silvasa',\n",
       "       'Hospet', 'Palai', 'Sidhi'], dtype=object)"
      ]
     },
     "execution_count": 4,
     "metadata": {},
     "output_type": "execute_result"
    }
   ],
   "source": [
    "df[\"city\"].unique()"
   ]
  },
  {
   "cell_type": "code",
   "execution_count": 5,
   "metadata": {},
   "outputs": [
    {
     "data": {
      "text/html": [
       "<div>\n",
       "<style scoped>\n",
       "    .dataframe tbody tr th:only-of-type {\n",
       "        vertical-align: middle;\n",
       "    }\n",
       "\n",
       "    .dataframe tbody tr th {\n",
       "        vertical-align: top;\n",
       "    }\n",
       "\n",
       "    .dataframe thead th {\n",
       "        text-align: right;\n",
       "    }\n",
       "</style>\n",
       "<table border=\"1\" class=\"dataframe\">\n",
       "  <thead>\n",
       "    <tr style=\"text-align: right;\">\n",
       "      <th></th>\n",
       "      <th>bike_name</th>\n",
       "      <th>price</th>\n",
       "      <th>city</th>\n",
       "      <th>kms_driven</th>\n",
       "      <th>owner</th>\n",
       "      <th>age</th>\n",
       "      <th>power</th>\n",
       "      <th>brand</th>\n",
       "    </tr>\n",
       "  </thead>\n",
       "  <tbody>\n",
       "    <tr>\n",
       "      <th>888</th>\n",
       "      <td>KTM RC 390cc</td>\n",
       "      <td>147000.0</td>\n",
       "      <td>Jaipur</td>\n",
       "      <td>15000.0</td>\n",
       "      <td>First Owner</td>\n",
       "      <td>6.0</td>\n",
       "      <td>390.0</td>\n",
       "      <td>KTM</td>\n",
       "    </tr>\n",
       "    <tr>\n",
       "      <th>4945</th>\n",
       "      <td>KTM Duke 390cc</td>\n",
       "      <td>200000.0</td>\n",
       "      <td>Jaipur</td>\n",
       "      <td>11700.0</td>\n",
       "      <td>First Owner</td>\n",
       "      <td>4.0</td>\n",
       "      <td>390.0</td>\n",
       "      <td>KTM</td>\n",
       "    </tr>\n",
       "    <tr>\n",
       "      <th>4948</th>\n",
       "      <td>KTM RC 390cc</td>\n",
       "      <td>175000.0</td>\n",
       "      <td>Jaipur</td>\n",
       "      <td>10880.0</td>\n",
       "      <td>First Owner</td>\n",
       "      <td>4.0</td>\n",
       "      <td>390.0</td>\n",
       "      <td>KTM</td>\n",
       "    </tr>\n",
       "    <tr>\n",
       "      <th>6073</th>\n",
       "      <td>KTM RC 200cc</td>\n",
       "      <td>190000.0</td>\n",
       "      <td>Jaipur</td>\n",
       "      <td>7902.0</td>\n",
       "      <td>First Owner</td>\n",
       "      <td>2.0</td>\n",
       "      <td>200.0</td>\n",
       "      <td>KTM</td>\n",
       "    </tr>\n",
       "    <tr>\n",
       "      <th>6159</th>\n",
       "      <td>KTM Duke 250cc</td>\n",
       "      <td>135000.0</td>\n",
       "      <td>Jaipur</td>\n",
       "      <td>12507.0</td>\n",
       "      <td>First Owner</td>\n",
       "      <td>4.0</td>\n",
       "      <td>250.0</td>\n",
       "      <td>KTM</td>\n",
       "    </tr>\n",
       "    <tr>\n",
       "      <th>6552</th>\n",
       "      <td>KTM RC 200cc</td>\n",
       "      <td>190000.0</td>\n",
       "      <td>Jaipur</td>\n",
       "      <td>7902.0</td>\n",
       "      <td>First Owner</td>\n",
       "      <td>2.0</td>\n",
       "      <td>200.0</td>\n",
       "      <td>KTM</td>\n",
       "    </tr>\n",
       "    <tr>\n",
       "      <th>6734</th>\n",
       "      <td>KTM RC 200cc</td>\n",
       "      <td>128000.0</td>\n",
       "      <td>Jaipur</td>\n",
       "      <td>15000.0</td>\n",
       "      <td>First Owner</td>\n",
       "      <td>4.0</td>\n",
       "      <td>200.0</td>\n",
       "      <td>KTM</td>\n",
       "    </tr>\n",
       "    <tr>\n",
       "      <th>7561</th>\n",
       "      <td>KTM Duke 250cc</td>\n",
       "      <td>150000.0</td>\n",
       "      <td>Jaipur</td>\n",
       "      <td>12500.0</td>\n",
       "      <td>First Owner</td>\n",
       "      <td>4.0</td>\n",
       "      <td>250.0</td>\n",
       "      <td>KTM</td>\n",
       "    </tr>\n",
       "  </tbody>\n",
       "</table>\n",
       "</div>"
      ],
      "text/plain": [
       "           bike_name     price    city  kms_driven        owner  age  power  \\\n",
       "888     KTM RC 390cc  147000.0  Jaipur     15000.0  First Owner  6.0  390.0   \n",
       "4945  KTM Duke 390cc  200000.0  Jaipur     11700.0  First Owner  4.0  390.0   \n",
       "4948    KTM RC 390cc  175000.0  Jaipur     10880.0  First Owner  4.0  390.0   \n",
       "6073    KTM RC 200cc  190000.0  Jaipur      7902.0  First Owner  2.0  200.0   \n",
       "6159  KTM Duke 250cc  135000.0  Jaipur     12507.0  First Owner  4.0  250.0   \n",
       "6552    KTM RC 200cc  190000.0  Jaipur      7902.0  First Owner  2.0  200.0   \n",
       "6734    KTM RC 200cc  128000.0  Jaipur     15000.0  First Owner  4.0  200.0   \n",
       "7561  KTM Duke 250cc  150000.0  Jaipur     12500.0  First Owner  4.0  250.0   \n",
       "\n",
       "     brand  \n",
       "888    KTM  \n",
       "4945   KTM  \n",
       "4948   KTM  \n",
       "6073   KTM  \n",
       "6159   KTM  \n",
       "6552   KTM  \n",
       "6734   KTM  \n",
       "7561   KTM  "
      ]
     },
     "execution_count": 5,
     "metadata": {},
     "output_type": "execute_result"
    }
   ],
   "source": [
    "a=df[(df[\"brand\"]==\"KTM\") & (df[\"city\"]==\"Jaipur\")]\n",
    "a "
   ]
  },
  {
   "cell_type": "markdown",
   "metadata": {},
   "source": []
  },
  {
   "cell_type": "code",
   "execution_count": 6,
   "metadata": {},
   "outputs": [
    {
     "data": {
      "text/plain": [
       "128000.0"
      ]
     },
     "execution_count": 6,
     "metadata": {},
     "output_type": "execute_result"
    }
   ],
   "source": [
    "a[\"price\"].min()"
   ]
  },
  {
   "cell_type": "code",
   "execution_count": 7,
   "metadata": {},
   "outputs": [
    {
     "data": {
      "text/plain": [
       "(8, 8)"
      ]
     },
     "execution_count": 7,
     "metadata": {},
     "output_type": "execute_result"
    }
   ],
   "source": [
    "a.shape"
   ]
  },
  {
   "cell_type": "markdown",
   "metadata": {},
   "source": [
    "# 2)\n"
   ]
  },
  {
   "cell_type": "code",
   "execution_count": 8,
   "metadata": {},
   "outputs": [
    {
     "data": {
      "text/html": [
       "<div>\n",
       "<style scoped>\n",
       "    .dataframe tbody tr th:only-of-type {\n",
       "        vertical-align: middle;\n",
       "    }\n",
       "\n",
       "    .dataframe tbody tr th {\n",
       "        vertical-align: top;\n",
       "    }\n",
       "\n",
       "    .dataframe thead th {\n",
       "        text-align: right;\n",
       "    }\n",
       "</style>\n",
       "<table border=\"1\" class=\"dataframe\">\n",
       "  <thead>\n",
       "    <tr style=\"text-align: right;\">\n",
       "      <th></th>\n",
       "      <th>bike_name</th>\n",
       "      <th>price</th>\n",
       "      <th>city</th>\n",
       "      <th>kms_driven</th>\n",
       "      <th>owner</th>\n",
       "      <th>age</th>\n",
       "      <th>power</th>\n",
       "      <th>brand</th>\n",
       "    </tr>\n",
       "  </thead>\n",
       "  <tbody>\n",
       "    <tr>\n",
       "      <th>1</th>\n",
       "      <td>Royal Enfield Classic 350cc</td>\n",
       "      <td>119900.0</td>\n",
       "      <td>Delhi</td>\n",
       "      <td>11000.0</td>\n",
       "      <td>First Owner</td>\n",
       "      <td>4.0</td>\n",
       "      <td>350.0</td>\n",
       "      <td>Royal Enfield</td>\n",
       "    </tr>\n",
       "    <tr>\n",
       "      <th>2</th>\n",
       "      <td>Triumph Daytona 675R</td>\n",
       "      <td>600000.0</td>\n",
       "      <td>Delhi</td>\n",
       "      <td>110.0</td>\n",
       "      <td>First Owner</td>\n",
       "      <td>8.0</td>\n",
       "      <td>675.0</td>\n",
       "      <td>Triumph</td>\n",
       "    </tr>\n",
       "    <tr>\n",
       "      <th>5</th>\n",
       "      <td>Yamaha FZs 150cc</td>\n",
       "      <td>53499.0</td>\n",
       "      <td>Delhi</td>\n",
       "      <td>25000.0</td>\n",
       "      <td>First Owner</td>\n",
       "      <td>6.0</td>\n",
       "      <td>150.0</td>\n",
       "      <td>Yamaha</td>\n",
       "    </tr>\n",
       "    <tr>\n",
       "      <th>6</th>\n",
       "      <td>Honda CB Hornet 160R  ABS DLX</td>\n",
       "      <td>85000.0</td>\n",
       "      <td>Delhi</td>\n",
       "      <td>8200.0</td>\n",
       "      <td>First Owner</td>\n",
       "      <td>3.0</td>\n",
       "      <td>160.0</td>\n",
       "      <td>Honda</td>\n",
       "    </tr>\n",
       "    <tr>\n",
       "      <th>7</th>\n",
       "      <td>Hero Splendor Plus Self Alloy 100cc</td>\n",
       "      <td>45000.0</td>\n",
       "      <td>Delhi</td>\n",
       "      <td>12645.0</td>\n",
       "      <td>First Owner</td>\n",
       "      <td>3.0</td>\n",
       "      <td>100.0</td>\n",
       "      <td>Hero</td>\n",
       "    </tr>\n",
       "    <tr>\n",
       "      <th>...</th>\n",
       "      <td>...</td>\n",
       "      <td>...</td>\n",
       "      <td>...</td>\n",
       "      <td>...</td>\n",
       "      <td>...</td>\n",
       "      <td>...</td>\n",
       "      <td>...</td>\n",
       "      <td>...</td>\n",
       "    </tr>\n",
       "    <tr>\n",
       "      <th>32637</th>\n",
       "      <td>Bajaj Pulsar 150cc</td>\n",
       "      <td>25000.0</td>\n",
       "      <td>Delhi</td>\n",
       "      <td>32588.0</td>\n",
       "      <td>First Owner</td>\n",
       "      <td>9.0</td>\n",
       "      <td>150.0</td>\n",
       "      <td>Bajaj</td>\n",
       "    </tr>\n",
       "    <tr>\n",
       "      <th>32639</th>\n",
       "      <td>Royal Enfield Classic 350cc</td>\n",
       "      <td>95500.0</td>\n",
       "      <td>Delhi</td>\n",
       "      <td>18000.0</td>\n",
       "      <td>First Owner</td>\n",
       "      <td>8.0</td>\n",
       "      <td>350.0</td>\n",
       "      <td>Royal Enfield</td>\n",
       "    </tr>\n",
       "    <tr>\n",
       "      <th>32640</th>\n",
       "      <td>Hero Passion Pro 100cc</td>\n",
       "      <td>32000.0</td>\n",
       "      <td>Delhi</td>\n",
       "      <td>12000.0</td>\n",
       "      <td>First Owner</td>\n",
       "      <td>6.0</td>\n",
       "      <td>100.0</td>\n",
       "      <td>Hero</td>\n",
       "    </tr>\n",
       "    <tr>\n",
       "      <th>32643</th>\n",
       "      <td>Hero Passion Pro 100cc</td>\n",
       "      <td>39000.0</td>\n",
       "      <td>Delhi</td>\n",
       "      <td>22000.0</td>\n",
       "      <td>First Owner</td>\n",
       "      <td>4.0</td>\n",
       "      <td>100.0</td>\n",
       "      <td>Hero</td>\n",
       "    </tr>\n",
       "    <tr>\n",
       "      <th>32645</th>\n",
       "      <td>Bajaj Avenger Street 220</td>\n",
       "      <td>60000.0</td>\n",
       "      <td>Delhi</td>\n",
       "      <td>20373.0</td>\n",
       "      <td>First Owner</td>\n",
       "      <td>6.0</td>\n",
       "      <td>220.0</td>\n",
       "      <td>Bajaj</td>\n",
       "    </tr>\n",
       "  </tbody>\n",
       "</table>\n",
       "<p>6516 rows × 8 columns</p>\n",
       "</div>"
      ],
      "text/plain": [
       "                                 bike_name     price   city  kms_driven  \\\n",
       "1              Royal Enfield Classic 350cc  119900.0  Delhi     11000.0   \n",
       "2                     Triumph Daytona 675R  600000.0  Delhi       110.0   \n",
       "5                         Yamaha FZs 150cc   53499.0  Delhi     25000.0   \n",
       "6            Honda CB Hornet 160R  ABS DLX   85000.0  Delhi      8200.0   \n",
       "7      Hero Splendor Plus Self Alloy 100cc   45000.0  Delhi     12645.0   \n",
       "...                                    ...       ...    ...         ...   \n",
       "32637                   Bajaj Pulsar 150cc   25000.0  Delhi     32588.0   \n",
       "32639          Royal Enfield Classic 350cc   95500.0  Delhi     18000.0   \n",
       "32640               Hero Passion Pro 100cc   32000.0  Delhi     12000.0   \n",
       "32643               Hero Passion Pro 100cc   39000.0  Delhi     22000.0   \n",
       "32645             Bajaj Avenger Street 220   60000.0  Delhi     20373.0   \n",
       "\n",
       "             owner  age  power          brand  \n",
       "1      First Owner  4.0  350.0  Royal Enfield  \n",
       "2      First Owner  8.0  675.0        Triumph  \n",
       "5      First Owner  6.0  150.0         Yamaha  \n",
       "6      First Owner  3.0  160.0          Honda  \n",
       "7      First Owner  3.0  100.0           Hero  \n",
       "...            ...  ...    ...            ...  \n",
       "32637  First Owner  9.0  150.0          Bajaj  \n",
       "32639  First Owner  8.0  350.0  Royal Enfield  \n",
       "32640  First Owner  6.0  100.0           Hero  \n",
       "32643  First Owner  4.0  100.0           Hero  \n",
       "32645  First Owner  6.0  220.0          Bajaj  \n",
       "\n",
       "[6516 rows x 8 columns]"
      ]
     },
     "execution_count": 8,
     "metadata": {},
     "output_type": "execute_result"
    }
   ],
   "source": [
    "a=df[(df[\"owner\"]==\"First Owner\") & (df[\"city\"]==\"Delhi\")]\n",
    "a "
   ]
  },
  {
   "cell_type": "code",
   "execution_count": 9,
   "metadata": {},
   "outputs": [
    {
     "data": {
      "text/plain": [
       "(6516, 8)"
      ]
     },
     "execution_count": 9,
     "metadata": {},
     "output_type": "execute_result"
    }
   ],
   "source": [
    "a.shape"
   ]
  },
  {
   "cell_type": "code",
   "execution_count": 10,
   "metadata": {},
   "outputs": [
    {
     "data": {
      "text/plain": [
       "1.0"
      ]
     },
     "execution_count": 10,
     "metadata": {},
     "output_type": "execute_result"
    }
   ],
   "source": [
    "a[\"age\"].min()"
   ]
  },
  {
   "cell_type": "code",
   "execution_count": 11,
   "metadata": {},
   "outputs": [
    {
     "data": {
      "text/plain": [
       "20.0"
      ]
     },
     "execution_count": 11,
     "metadata": {},
     "output_type": "execute_result"
    }
   ],
   "source": [
    "a[\"age\"].max()"
   ]
  },
  {
   "cell_type": "markdown",
   "metadata": {},
   "source": []
  },
  {
   "cell_type": "markdown",
   "metadata": {},
   "source": [
    "# 3)"
   ]
  },
  {
   "cell_type": "code",
   "execution_count": null,
   "metadata": {},
   "outputs": [],
   "source": []
  }
 ],
 "metadata": {
  "kernelspec": {
   "display_name": "Python 3",
   "language": "python",
   "name": "python3"
  },
  "language_info": {
   "codemirror_mode": {
    "name": "ipython",
    "version": 3
   },
   "file_extension": ".py",
   "mimetype": "text/x-python",
   "name": "python",
   "nbconvert_exporter": "python",
   "pygments_lexer": "ipython3",
   "version": "3.12.3"
  }
 },
 "nbformat": 4,
 "nbformat_minor": 2
}
