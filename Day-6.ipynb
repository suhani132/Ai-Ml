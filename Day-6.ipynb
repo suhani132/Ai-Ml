{
 "cells": [
  {
   "cell_type": "markdown",
   "metadata": {},
   "source": [
    "#### 1. Python function as palindrome that takes a string and returns True if the string is a palindrome and False if it is not.\n"
   ]
  },
  {
   "cell_type": "code",
   "execution_count": 5,
   "metadata": {},
   "outputs": [
    {
     "name": "stdout",
     "output_type": "stream",
     "text": [
      "False\n"
     ]
    }
   ],
   "source": [
    "def is_palindrome(S):\n",
    "    return S == S[::-1] # reverse the string\n",
    "\n",
    "if is_palindrome(input(\"Enter a word: \")):\n",
    "    print(\"True\")\n",
    "else:\n",
    "    print(\"False\")"
   ]
  },
  {
   "cell_type": "markdown",
   "metadata": {},
   "source": [
    "#### 2.Python function called calculator that take two no. and operation as input and perform add, sub, division & mult "
   ]
  },
  {
   "cell_type": "code",
   "execution_count": 9,
   "metadata": {},
   "outputs": [
    {
     "name": "stdout",
     "output_type": "stream",
     "text": [
      "Error: Division by zero is not allowed.\n",
      "None\n"
     ]
    }
   ],
   "source": [
    "def calculator(num1, num2, op):\n",
    "    if op == \"add\":\n",
    "     return num1 + num2\n",
    "    elif op == \"subtract\":\n",
    "     return num1 - num2\n",
    "    elif op == \"divide\":\n",
    "     if num2 == 0:\n",
    "      print(\"Error: Division by zero is not allowed.\")\n",
    "      return None\n",
    "     else:\n",
    "      return num1 / num2\n",
    "    elif op == \"multiply\":\n",
    "      return num1 * num2\n",
    "    else:\n",
    "      print(\"Error: Invalid operation provided.\")\n",
    "      return None\n",
    "num1=float(input(\"Enter num1 : \"))\n",
    "num2=float(input(\"Enter num2 : \"))\n",
    "\n",
    "op=input(\"Enter operation : \")\n",
    "\n",
    "\n",
    "print(calculator(num1,num2,op))"
   ]
  },
  {
   "cell_type": "markdown",
   "metadata": {},
   "source": [
    "#### 3. function called counter that takes a string \"S\" as a input and return the count of each character in word or in \"S\"."
   ]
  },
  {
   "cell_type": "code",
   "execution_count": 14,
   "metadata": {},
   "outputs": [
    {
     "name": "stdout",
     "output_type": "stream",
     "text": [
      "{'s': 1, 'u': 1, 'h': 1, 'a': 2}\n"
     ]
    }
   ],
   "source": [
    "def counter(S):\n",
    "   char_counts = {}\n",
    "   for char in S:\n",
    "      if char in char_counts:\n",
    "         char_counts[char] += 1\n",
    "      else:\n",
    "          char_counts[char]=1\n",
    "   return char_counts\n",
    "S = input(\"Enter a string: \")\n",
    "print(counter(S))\n",
    "     "
   ]
  },
  {
   "cell_type": "markdown",
   "metadata": {},
   "source": [
    "#### 4. Take int n as input and print a right triangle pattern in a row .Each row should have i (*) where i is row no."
   ]
  },
  {
   "cell_type": "code",
   "execution_count": 17,
   "metadata": {},
   "outputs": [
    {
     "name": "stdout",
     "output_type": "stream",
     "text": [
      "* \n",
      "\n",
      "** \n",
      "\n",
      "*** \n",
      "\n",
      "**** \n",
      "\n",
      "***** \n",
      "\n"
     ]
    }
   ],
   "source": [
    "def right_triangle_pattern(n):\n",
    "  for i in range(1, n + 1):\n",
    "    print(\"*\" * i,\"\\n\")  \n",
    "\n",
    "\n",
    "n = int(input(\"Enter the number of rows: \"))\n",
    "\n",
    "\n",
    "right_triangle_pattern(n)\n"
   ]
  },
  {
   "cell_type": "markdown",
   "metadata": {},
   "source": [
    "#### 5. function that takes an integer n as input and prints multiplication table of n upto 10."
   ]
  },
  {
   "cell_type": "code",
   "execution_count": 10,
   "metadata": {},
   "outputs": [
    {
     "name": "stdout",
     "output_type": "stream",
     "text": [
      "3 * 1 = 3\n",
      "3 * 2 = 6\n",
      "3 * 3 = 9\n",
      "3 * 4 = 12\n",
      "3 * 5 = 15\n",
      "3 * 6 = 18\n",
      "3 * 7 = 21\n",
      "3 * 8 = 24\n",
      "3 * 9 = 27\n",
      "3 * 10 = 30\n"
     ]
    }
   ],
   "source": [
    "def table(num):\n",
    "    i=1\n",
    "    for i in range(1,11):\n",
    "        print(num,\"*\",i,\"=\",num*i)\n",
    "\n",
    "table(int(input(\"Enter a number: \")))        \n"
   ]
  }
 ],
 "metadata": {
  "kernelspec": {
   "display_name": "Python 3",
   "language": "python",
   "name": "python3"
  },
  "language_info": {
   "codemirror_mode": {
    "name": "ipython",
    "version": 3
   },
   "file_extension": ".py",
   "mimetype": "text/x-python",
   "name": "python",
   "nbconvert_exporter": "python",
   "pygments_lexer": "ipython3",
   "version": "3.12.3"
  }
 },
 "nbformat": 4,
 "nbformat_minor": 2
}
