{
 "cells": [
  {
   "cell_type": "markdown",
   "metadata": {},
   "source": [
    "#### 1. Write  Python progrma to calculate the factorial of non negative integer entered by user"
   ]
  },
  {
   "cell_type": "code",
   "execution_count": 2,
   "metadata": {},
   "outputs": [
    {
     "name": "stdout",
     "output_type": "stream",
     "text": [
      "Factorial of n is :  120\n"
     ]
    }
   ],
   "source": [
    "n=int(input(\"Enter a num :\"))\n",
    "a=1\n",
    "if n==0:\n",
    "    print(\"Factorial of 0 is\",a)\n",
    "else:\n",
    "    for i in range(1,n+1):\n",
    "        a=a*i\n",
    "    print(\"Factorial of n is : \",a)    "
   ]
  },
  {
   "cell_type": "markdown",
   "metadata": {},
   "source": [
    "#### 2. Program to read a text file line by line and display no. of words in each line "
   ]
  },
  {
   "cell_type": "code",
   "execution_count": null,
   "metadata": {},
   "outputs": [],
   "source": []
  },
  {
   "cell_type": "markdown",
   "metadata": {},
   "source": [
    "#### 4. Max and Min number given in a list "
   ]
  },
  {
   "cell_type": "code",
   "execution_count": 3,
   "metadata": {},
   "outputs": [
    {
     "name": "stdout",
     "output_type": "stream",
     "text": [
      "67\n"
     ]
    }
   ],
   "source": [
    "lst=[23,45,67,43]\n",
    "max=lst[0]\n",
    "for items in lst:\n",
    "    if(items>max):\n",
    "        max   =items\n",
    "print(max)"
   ]
  },
  {
   "cell_type": "code",
   "execution_count": 4,
   "metadata": {},
   "outputs": [
    {
     "name": "stdout",
     "output_type": "stream",
     "text": [
      "-67\n"
     ]
    }
   ],
   "source": [
    "lst=[23,4,-67,3]\n",
    "min=lst[0]\n",
    "for items in lst:\n",
    "    if(items<min):\n",
    "        min =items\n",
    "print(min)    "
   ]
  },
  {
   "cell_type": "markdown",
   "metadata": {},
   "source": [
    "#### 4. Find longest word given in a list. If there are multiple words with same length then return the first word encountered"
   ]
  },
  {
   "cell_type": "code",
   "execution_count": 8,
   "metadata": {},
   "outputs": [
    {
     "name": "stdout",
     "output_type": "stream",
     "text": [
      "wowie\n"
     ]
    }
   ],
   "source": [
    "words = [\"hi\", \"is\", \"good\", \"wowie\", \"Hello\"]\n",
    "longest_word = \"\"\n",
    "longest_length = 0\n",
    "\n",
    "for word in words:\n",
    "    current_length = len(word)\n",
    "    if current_length > longest_length:\n",
    "        longest_length = current_length\n",
    "        longest_word = word\n",
    "\n",
    "print(longest_word)"
   ]
  },
  {
   "cell_type": "code",
   "execution_count": null,
   "metadata": {},
   "outputs": [],
   "source": []
  }
 ],
 "metadata": {
  "kernelspec": {
   "display_name": "Python 3",
   "language": "python",
   "name": "python3"
  },
  "language_info": {
   "codemirror_mode": {
    "name": "ipython",
    "version": 3
   },
   "file_extension": ".py",
   "mimetype": "text/x-python",
   "name": "python",
   "nbconvert_exporter": "python",
   "pygments_lexer": "ipython3",
   "version": "3.12.3"
  }
 },
 "nbformat": 4,
 "nbformat_minor": 2
}
