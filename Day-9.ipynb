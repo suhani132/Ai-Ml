{
 "cells": [
  {
   "cell_type": "markdown",
   "metadata": {},
   "source": [
    "#### 1. Take radius of circle as a input aand return the area of circle. Write program in OOPS"
   ]
  },
  {
   "cell_type": "code",
   "execution_count": 2,
   "metadata": {},
   "outputs": [
    {
     "name": "stdout",
     "output_type": "stream",
     "text": [
      "area of circle is: 314.0\n"
     ]
    }
   ],
   "source": [
    "class Calculate_area:\n",
    "    def __init__(self,radius):\n",
    "        self.radius=radius\n",
    "\n",
    "    def area(self):\n",
    "        area=3.14*self.radius*self.radius\n",
    "        print(\"area of circle is:\",area)\n",
    "\n",
    "area_obj1 = Calculate_area(int(input(\"Enter radius : \")))\n",
    "area_obj1.area()\n"
   ]
  },
  {
   "cell_type": "markdown",
   "metadata": {},
   "source": [
    "#### 2. Calculate the final price of an item after applying discount percentage.function should take price and discount percentage as an input\n"
   ]
  },
  {
   "cell_type": "code",
   "execution_count": 3,
   "metadata": {},
   "outputs": [
    {
     "data": {
      "text/plain": [
       "90.0"
      ]
     },
     "execution_count": 3,
     "metadata": {},
     "output_type": "execute_result"
    }
   ],
   "source": [
    "class Calculate_discount:\n",
    "    def __init__(self,price,discount):\n",
    "        self.price = price\n",
    "        self.discount = discount\n",
    "\n",
    "    def calculate_discount(self):\n",
    "        discount_price = self.price - ((self.price * self.discount)/100)\n",
    "        return discount_price\n",
    "    \n",
    "discount_obj1 = Calculate_discount((int(input(\"Enter price : \"))),float(input(\"enter discount% : \")))\n",
    "discount_obj1.calculate_discount()"
   ]
  },
  {
   "cell_type": "markdown",
   "metadata": {},
   "source": [
    "#### 3. Take string as input and count no. of vowels(both uppercase and lowercase) in the string"
   ]
  },
  {
   "cell_type": "code",
   "execution_count": null,
   "metadata": {},
   "outputs": [],
   "source": []
  }
 ],
 "metadata": {
  "kernelspec": {
   "display_name": "Python 3",
   "language": "python",
   "name": "python3"
  },
  "language_info": {
   "codemirror_mode": {
    "name": "ipython",
    "version": 3
   },
   "file_extension": ".py",
   "mimetype": "text/x-python",
   "name": "python",
   "nbconvert_exporter": "python",
   "pygments_lexer": "ipython3",
   "version": "3.12.3"
  }
 },
 "nbformat": 4,
 "nbformat_minor": 2
}
